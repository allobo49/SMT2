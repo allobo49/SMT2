{
  "cells": [
    {
      "cell_type": "markdown",
      "metadata": {
        "id": "view-in-github",
        "colab_type": "text"
      },
      "source": [
        "<a href=\"https://colab.research.google.com/github/allobo49/SMT2/blob/main/Quizzes/Assignment_one__2024.ipynb\" target=\"_parent\"><img src=\"https://colab.research.google.com/assets/colab-badge.svg\" alt=\"Open In Colab\"/></a>"
      ]
    },
    {
      "cell_type": "markdown",
      "metadata": {
        "id": "yrXLb3bx4cfD"
      },
      "source": [
        "#DSML investigation:\n",
        "### You are part of the Suisse Impossible Mission Force, or SIMF for short. You need to uncover a rogue agent that is trying to steal sensitive information.\n",
        "\n",
        "### Your mission, should you choose to accept it, is to find that agent before any classified information gets stolen. Good luck!\n"
      ]
    },
    {
      "cell_type": "markdown",
      "metadata": {
        "id": "4bVDcyJHHFjh"
      },
      "source": [
        "# Assignment part one\n",
        "\n",
        "Airport security confiscated a laptop of a spy, which was later given to you. The laptop contains some documents that might be useful in the investigation process. You retrieve those documents and want to analyse them. Our intelligence shows that the person that we are looking for has visited the USA between Sept 2019 to Oct 2020. He is currently working undercover.\n",
        "\n",
        "\n",
        "##Getting to know our data\n",
        "\n",
        "We have retrieved from the laptop the following file:\n",
        "- A list of suspects\n",
        "- The flight records of these potential suspects\n",
        "\n"
      ]
    },
    {
      "cell_type": "code",
      "execution_count": 90,
      "metadata": {
        "id": "abwjDTZRHvzn"
      },
      "outputs": [],
      "source": [
        "import pandas as pd\n",
        "import numpy as np\n",
        "import matplotlib.pyplot as plt\n",
        "userRecords = pd.read_csv(\"https://raw.githubusercontent.com/michalis0/MGT-502-Data-Science-and-Machine-Learning/main/data/userRecords.csv\")\n",
        "travelRecords = pd.read_csv(\"https://raw.githubusercontent.com/michalis0/MGT-502-Data-Science-and-Machine-Learning/main/data/flightRecords.csv\")"
      ]
    },
    {
      "cell_type": "markdown",
      "metadata": {
        "id": "Fl_HmWwtIBDJ"
      },
      "source": [
        "#### Shape of the data\n",
        "\n",
        "Let's first check how many rows and columns (features) are in the user records"
      ]
    },
    {
      "cell_type": "code",
      "execution_count": 91,
      "metadata": {
        "id": "uICj1b0GIEKG",
        "colab": {
          "base_uri": "https://localhost:8080/"
        },
        "outputId": "526da65d-2754-49f8-e966-0e37bf10e9dd"
      },
      "outputs": [
        {
          "output_type": "stream",
          "name": "stdout",
          "text": [
            "Number of rows: 957\n",
            "Number of columns: 10\n"
          ]
        }
      ],
      "source": [
        "#print(userRecords)\n",
        "\n",
        "num_rows_UR = len(userRecords)\n",
        "num_columns_UR = userRecords.shape[1]\n",
        "\n",
        "print(\"Number of rows:\", num_rows_UR) #957 rows\n",
        "print(\"Number of columns:\", num_columns_UR) #10 columns"
      ]
    },
    {
      "cell_type": "markdown",
      "metadata": {
        "id": "JT6l8O-2ISqh"
      },
      "source": [
        "\n",
        "#### Check out the first few rows\n",
        "To protect innocent people, the name of the suspects have been censored, those will be revealed once number of potential suspects decreases.\n"
      ]
    },
    {
      "cell_type": "code",
      "execution_count": 92,
      "metadata": {
        "id": "xce5aB8SIOeu",
        "colab": {
          "base_uri": "https://localhost:8080/"
        },
        "outputId": "96565f7c-5906-4a7f-a5be-4d2f5e5a9ad9"
      },
      "outputs": [
        {
          "output_type": "stream",
          "name": "stdout",
          "text": [
            "   Unnamed: 0.1  Unnamed: 0  UserID first_name  last_name    birthday country  \\\n",
            "0             0           0  317991      Lu***    Al*****  29-07-2003      AR   \n",
            "1             1           1  241892     Ma****  Ro*******  10-11-1999      AR   \n",
            "2             2           2  303376     Fr****     Ac****  25-07-1984      AR   \n",
            "3             3           3  761992     Fr****      Go***  20-03-1970      AR   \n",
            "4             4           4  373318      Jo***      Ro***  05-10-1971      AR   \n",
            "\n",
            "  marital_status  number_of_kids               employment  \n",
            "0            1.0             2.0             Web Designer  \n",
            "1            1.0             0.0                   Banker  \n",
            "2            1.0             0.0            Kitchen staff  \n",
            "3            1.0             0.0       Teaching Assistant  \n",
            "4            1.0             0.0  Administrative employee  \n"
          ]
        }
      ],
      "source": [
        "#Visualize the first rows\n",
        "first_rows_UR = userRecords.head()\n",
        "print(first_rows_UR)"
      ]
    },
    {
      "cell_type": "markdown",
      "metadata": {
        "id": "3TgOsG-pI8Yo"
      },
      "source": [
        "#### List the column/feature names"
      ]
    },
    {
      "cell_type": "code",
      "execution_count": 93,
      "metadata": {
        "id": "KPRr2ogtI-3B",
        "colab": {
          "base_uri": "https://localhost:8080/"
        },
        "outputId": "a04d2847-b35b-479e-9a57-941dd683128b"
      },
      "outputs": [
        {
          "output_type": "stream",
          "name": "stdout",
          "text": [
            "Column names: Index(['Unnamed: 0.1', 'Unnamed: 0', 'UserID', 'first_name', 'last_name',\n",
            "       'birthday', 'country', 'marital_status', 'number_of_kids',\n",
            "       'employment'],\n",
            "      dtype='object')\n"
          ]
        }
      ],
      "source": [
        "#Get the names of the columns\n",
        "column_names_UR = userRecords.columns\n",
        "\n",
        "print(\"Column names:\", column_names_UR)"
      ]
    },
    {
      "cell_type": "markdown",
      "metadata": {
        "id": "e1XYn9tvJHbL"
      },
      "source": [
        "#### Duplicates\n",
        "You can check if there are duplicates in the dataset."
      ]
    },
    {
      "cell_type": "code",
      "execution_count": 94,
      "metadata": {
        "id": "Ve6cJ5hbJIrQ",
        "colab": {
          "base_uri": "https://localhost:8080/"
        },
        "outputId": "d9401d05-9b4e-4b17-faed-41456a955454"
      },
      "outputs": [
        {
          "output_type": "stream",
          "name": "stdout",
          "text": [
            "There are duplicate IDs.\n"
          ]
        }
      ],
      "source": [
        "#Check for duplicate IDs\n",
        "duplicate_ids_UR = userRecords.duplicated(subset=['UserID'])\n",
        "\n",
        "if duplicate_ids_UR.any():\n",
        "    print(\"There are duplicate IDs.\")\n",
        "else:\n",
        "    print(\"There are no duplicate IDs.\")"
      ]
    },
    {
      "cell_type": "markdown",
      "metadata": {
        "id": "tebuO3lxJP-_"
      },
      "source": [
        "Show the duplicated rows if any:"
      ]
    },
    {
      "cell_type": "code",
      "execution_count": 95,
      "metadata": {
        "id": "5UPbuQn5JQnQ",
        "colab": {
          "base_uri": "https://localhost:8080/"
        },
        "outputId": "c337838a-599c-4ea8-8bcd-101146fe1f95"
      },
      "outputs": [
        {
          "output_type": "stream",
          "name": "stdout",
          "text": [
            "     Unnamed: 0.1  Unnamed: 0  UserID first_name last_name    birthday  \\\n",
            "19             18          18  100684    Ma*****    Me****  17-06-1976   \n",
            "165            46          46  910382      Ni***    El****  21-03-1975   \n",
            "290           274         274  610518    An*****  An******  15-02-1953   \n",
            "\n",
            "    country marital_status  number_of_kids               employment  \n",
            "19       AR            NaN             0.0  Administrative employee  \n",
            "165      AZ            NaN             0.0  Administrative employee  \n",
            "290      DK            1.0             NaN                  Manager  \n"
          ]
        }
      ],
      "source": [
        "if duplicate_ids_UR.any():\n",
        "    duplicate_rows = userRecords[duplicate_ids_UR]\n",
        "    print(duplicate_rows)"
      ]
    },
    {
      "cell_type": "markdown",
      "metadata": {
        "id": "AdTka1hDgpUB"
      },
      "source": [
        "Drop the duplicate entries if any"
      ]
    },
    {
      "cell_type": "code",
      "execution_count": 96,
      "metadata": {
        "id": "Jp9ndUSZgtSj",
        "colab": {
          "base_uri": "https://localhost:8080/"
        },
        "outputId": "62a10b79-d8f8-48a8-9174-a9c46d3caaa7"
      },
      "outputs": [
        {
          "output_type": "stream",
          "name": "stdout",
          "text": [
            "     Unnamed: 0.1  Unnamed: 0  UserID first_name  last_name    birthday  \\\n",
            "0               0           0  317991      Lu***    Al*****  29-07-2003   \n",
            "1               1           1  241892     Ma****  Ro*******  10-11-1999   \n",
            "2               2           2  303376     Fr****     Ac****  25-07-1984   \n",
            "3               3           3  761992     Fr****      Go***  20-03-1970   \n",
            "4               4           4  373318      Jo***      Ro***  05-10-1971   \n",
            "..            ...         ...     ...        ...        ...         ...   \n",
            "952           949         948  218415   Bu******   Mo******  22-01-2001   \n",
            "953           950         949  173906    Th*****   Mo******  06-11-1961   \n",
            "954           951         950  178685    Mi*****  Bu*******  29-05-1953   \n",
            "955           952         951  200865  Si*******     Na****  16-12-1962   \n",
            "956           953         952  102637    Bo*****     Na****  24-02-1950   \n",
            "\n",
            "    country marital_status  number_of_kids               employment  \n",
            "0        AR            1.0             2.0             Web Designer  \n",
            "1        AR            1.0             0.0                   Banker  \n",
            "2        AR            1.0             0.0            Kitchen staff  \n",
            "3        AR            1.0             0.0       Teaching Assistant  \n",
            "4        AR            1.0             0.0  Administrative employee  \n",
            "..      ...            ...             ...                      ...  \n",
            "952      ZA            0.0             1.0             Web Designer  \n",
            "953      ZA            0.0             2.0             Web Designer  \n",
            "954      ZA            0.0             1.0                Professor  \n",
            "955      ZA            0.0             0.0             Web Designer  \n",
            "956      ZA            0.0             NaN               Consultant  \n",
            "\n",
            "[954 rows x 10 columns]\n"
          ]
        }
      ],
      "source": [
        "# Drop duplicate rows\n",
        "userRecords = userRecords.drop_duplicates()\n",
        "\n",
        "# Print the DataFrame after dropping duplicates\n",
        "print(userRecords)"
      ]
    },
    {
      "cell_type": "markdown",
      "metadata": {
        "id": "pLJGJqwPT8B9"
      },
      "source": [
        "## Spies often use false identities with fabricated data.\n",
        "\n",
        "####This means that if some coincidences appear a statistically unusual amount of times, the data may be fabricated.\n",
        "\n",
        "In this part we are going to verify if there are birthdates that have been reused an unusual amount of times."
      ]
    },
    {
      "cell_type": "markdown",
      "metadata": {
        "id": "Qm2RR5j8Ky-t"
      },
      "source": [
        "Lets first ensure that the birthday column has the correct format:\n"
      ]
    },
    {
      "cell_type": "code",
      "execution_count": 97,
      "metadata": {
        "id": "KJ1-Bk2XULlt",
        "colab": {
          "base_uri": "https://localhost:8080/"
        },
        "outputId": "bd9d6594-a0c6-45ff-b4c2-5a3d0ee31e54"
      },
      "outputs": [
        {
          "output_type": "stream",
          "name": "stdout",
          "text": [
            "Data types of columns:\n",
            "Unnamed: 0.1        int64\n",
            "Unnamed: 0          int64\n",
            "UserID              int64\n",
            "first_name         object\n",
            "last_name          object\n",
            "birthday           object\n",
            "country            object\n",
            "marital_status     object\n",
            "number_of_kids    float64\n",
            "employment         object\n",
            "dtype: object\n"
          ]
        }
      ],
      "source": [
        "#Check the data type of each feature\n",
        "\n",
        "column_data_types_UR = userRecords.dtypes\n",
        "\n",
        "print(\"Data types of columns:\")\n",
        "print(column_data_types_UR)\n"
      ]
    },
    {
      "cell_type": "markdown",
      "metadata": {
        "id": "m1Bf_f-9qYTa"
      },
      "source": [
        "Convert the culumn \"birthday\" to datetime if necessary"
      ]
    },
    {
      "cell_type": "code",
      "execution_count": 98,
      "metadata": {
        "id": "3hmp9zVZK8fY",
        "colab": {
          "base_uri": "https://localhost:8080/"
        },
        "outputId": "20801c23-e173-4349-efe5-c77ee45c7b76"
      },
      "outputs": [
        {
          "output_type": "stream",
          "name": "stdout",
          "text": [
            "     Unnamed: 0.1  Unnamed: 0  UserID first_name  last_name   birthday  \\\n",
            "0               0           0  317991      Lu***    Al***** 2003-07-29   \n",
            "1               1           1  241892     Ma****  Ro******* 1999-11-10   \n",
            "2               2           2  303376     Fr****     Ac**** 1984-07-25   \n",
            "3               3           3  761992     Fr****      Go*** 1970-03-20   \n",
            "4               4           4  373318      Jo***      Ro*** 1971-10-05   \n",
            "..            ...         ...     ...        ...        ...        ...   \n",
            "952           949         948  218415   Bu******   Mo****** 2001-01-22   \n",
            "953           950         949  173906    Th*****   Mo****** 1961-11-06   \n",
            "954           951         950  178685    Mi*****  Bu******* 1953-05-29   \n",
            "955           952         951  200865  Si*******     Na**** 1962-12-16   \n",
            "956           953         952  102637    Bo*****     Na**** 1950-02-24   \n",
            "\n",
            "    country marital_status  number_of_kids               employment  \n",
            "0        AR            1.0             2.0             Web Designer  \n",
            "1        AR            1.0             0.0                   Banker  \n",
            "2        AR            1.0             0.0            Kitchen staff  \n",
            "3        AR            1.0             0.0       Teaching Assistant  \n",
            "4        AR            1.0             0.0  Administrative employee  \n",
            "..      ...            ...             ...                      ...  \n",
            "952      ZA            0.0             1.0             Web Designer  \n",
            "953      ZA            0.0             2.0             Web Designer  \n",
            "954      ZA            0.0             1.0                Professor  \n",
            "955      ZA            0.0             0.0             Web Designer  \n",
            "956      ZA            0.0             NaN               Consultant  \n",
            "\n",
            "[954 rows x 10 columns]\n"
          ]
        }
      ],
      "source": [
        "#Your code here\n",
        "userRecords['birthday'] = pd.to_datetime(userRecords['birthday'], format='%d-%m-%Y')\n",
        "print(userRecords)"
      ]
    },
    {
      "cell_type": "markdown",
      "metadata": {
        "id": "ZtNDR-qOzFfQ"
      },
      "source": [
        "Find the list of birthdays that are duplicated/reused in the dataset"
      ]
    },
    {
      "cell_type": "code",
      "execution_count": 128,
      "metadata": {
        "id": "R7xDb_JPyD0x",
        "colab": {
          "base_uri": "https://localhost:8080/"
        },
        "outputId": "6f402c8d-3031-45c7-e81e-473acf701004"
      },
      "outputs": [
        {
          "output_type": "stream",
          "name": "stdout",
          "text": [
            "The list of duplicated birthdays is the one that follows:\n",
            "DatetimeIndex(['1954-03-26', '1955-01-08', '1957-06-25', '1957-12-18',\n",
            "               '1957-12-24', '1960-03-26', '1960-06-23', '1962-07-07',\n",
            "               '1967-07-24', '1968-09-22', '1968-10-09', '1970-03-18',\n",
            "               '1970-04-06', '1975-01-28', '1978-11-21', '1983-03-15',\n",
            "               '1983-08-26', '1991-12-02', '1992-06-01', '1999-08-09',\n",
            "               '1999-09-12', '2004-11-30'],\n",
            "              dtype='datetime64[ns]', name='birthday', freq=None)\n",
            "There is a total of 22 duplicated birthdays\n"
          ]
        }
      ],
      "source": [
        "# Group by birthday and count the occurrences\n",
        "birthday_counts_UR = userRecords.groupby('birthday').size()\n",
        "df_duplicated_birthdays_count = birthday_counts_UR[birthday_counts_UR > 1]\n",
        "num_duplicated_birthdays=len(df_duplicated_birthdays_count)\n",
        "\n",
        "print(\"The list of duplicated birthdays is the one that follows:\")\n",
        "print(df_duplicated_birthdays_count.index)\n",
        "print(f\"There is a total of {num_duplicated_birthdays} duplicated birthdays\")"
      ]
    },
    {
      "cell_type": "markdown",
      "metadata": {
        "id": "FdIP5xyv2Qfs"
      },
      "source": [
        "Let's count how many people have their birthday on the same day among the duplicated birthdays."
      ]
    },
    {
      "cell_type": "code",
      "execution_count": 129,
      "metadata": {
        "id": "JDXzbAGPzVXy",
        "colab": {
          "base_uri": "https://localhost:8080/"
        },
        "outputId": "e3cf1198-bf2b-4253-fcbc-26c6319dc493"
      },
      "outputs": [
        {
          "output_type": "stream",
          "name": "stdout",
          "text": [
            "The amount of users that have birthday on the same day are the following ones:\n",
            "birthday\n",
            "1954-03-26    2\n",
            "1955-01-08    2\n",
            "1957-06-25    2\n",
            "1957-12-18    2\n",
            "1957-12-24    2\n",
            "1960-03-26    2\n",
            "1960-06-23    2\n",
            "1962-07-07    2\n",
            "1967-07-24    2\n",
            "1968-09-22    2\n",
            "1968-10-09    2\n",
            "1970-03-18    2\n",
            "1970-04-06    2\n",
            "1975-01-28    2\n",
            "1978-11-21    2\n",
            "1983-03-15    2\n",
            "1983-08-26    2\n",
            "1991-12-02    2\n",
            "1992-06-01    4\n",
            "1999-08-09    2\n",
            "1999-09-12    2\n",
            "2004-11-30    2\n",
            "dtype: int64\n"
          ]
        }
      ],
      "source": [
        "# Group by birthday and count the occurrences\n",
        "birthday_counts_UR = userRecords.groupby('birthday').size()\n",
        "\n",
        "print(\"The amount of users that have birthday on the same day are the following ones:\")\n",
        "print(birthday_counts_UR[birthday_counts_UR > 1])"
      ]
    },
    {
      "cell_type": "markdown",
      "metadata": {
        "id": "8hVJ7zM4RZk4"
      },
      "source": [
        "We can consider that there is no suspicious discrepancy through birthdays.\n"
      ]
    },
    {
      "cell_type": "markdown",
      "metadata": {
        "id": "-Akjuv9hBsPg"
      },
      "source": [
        "##We have reasons to believe that the suspect works very thoroughly, so he would make sure that the fabricated data about his identity is complete in order for his operation to run smoothly.\n",
        "###Therefore, we can exclude the people with incomplete information from the list of potential suspects."
      ]
    },
    {
      "cell_type": "markdown",
      "metadata": {
        "id": "OH0Rp5xb3OH9"
      },
      "source": [
        "You can call `isnull()` and `sum()` to get a count of how many null values are there in each column."
      ]
    },
    {
      "cell_type": "code",
      "execution_count": 132,
      "metadata": {
        "id": "27y9FBJG3MuR",
        "colab": {
          "base_uri": "https://localhost:8080/"
        },
        "outputId": "8b52aa5d-54c2-4017-afc5-12958b87586c"
      },
      "outputs": [
        {
          "output_type": "stream",
          "name": "stdout",
          "text": [
            "Number of null values in each column:\n",
            "Unnamed: 0.1        0\n",
            "Unnamed: 0          0\n",
            "UserID              0\n",
            "first_name          1\n",
            "last_name           1\n",
            "birthday            1\n",
            "country             0\n",
            "marital_status    102\n",
            "number_of_kids    152\n",
            "employment          1\n",
            "dtype: int64\n",
            "Number of records with at least one null value: 240\n"
          ]
        }
      ],
      "source": [
        "null_count = userRecords.isnull().sum()\n",
        "records_with_null_count = userRecords.isnull().any(axis=1).sum()\n",
        "\n",
        "print(\"Number of null values in each column:\")\n",
        "print(null_count)\n",
        "print(\"Number of records with at least one null value:\", records_with_null_count)"
      ]
    },
    {
      "cell_type": "code",
      "source": [
        "#Drop all records with null values\n",
        "UR_cleaned = userRecords.dropna()"
      ],
      "metadata": {
        "id": "j9zwDP85cl2r"
      },
      "execution_count": 236,
      "outputs": []
    },
    {
      "cell_type": "markdown",
      "metadata": {
        "id": "KkWJBx21Cq41"
      },
      "source": [
        "## Linking the user records to the flight records\n",
        "\n",
        "We will now proceed to identify the users who were in the USA from Sept 1st, 2019 to Oct 31st, 2020.\n",
        "\n",
        "We will combine the flight records with the user records in order to ensure that users who have been unsuspected in the previous step are not considered"
      ]
    },
    {
      "cell_type": "code",
      "execution_count": 237,
      "metadata": {
        "id": "EL7JbTKQCqUR",
        "colab": {
          "base_uri": "https://localhost:8080/"
        },
        "outputId": "afeb64df-1efc-4492-dddf-ffc8e2d44d01"
      },
      "outputs": [
        {
          "output_type": "stream",
          "name": "stdout",
          "text": [
            "DataFrame after dropping records with null values:\n",
            "     Unnamed: 0.1  Unnamed: 0  UserID  first_name  last_name   birthday  \\\n",
            "0               0           0  317991       Lu***    Al***** 2003-07-29   \n",
            "1               1           1  241892      Ma****  Ro******* 1999-11-10   \n",
            "2               2           2  303376      Fr****     Ac**** 1984-07-25   \n",
            "3               3           3  761992      Fr****      Go*** 1970-03-20   \n",
            "4               4           4  373318       Jo***      Ro*** 1971-10-05   \n",
            "..            ...         ...     ...         ...        ...        ...   \n",
            "950           947         946  458293  No********   Wi****** 1954-03-26   \n",
            "952           949         948  218415    Bu******   Mo****** 2001-01-22   \n",
            "953           950         949  173906     Th*****   Mo****** 1961-11-06   \n",
            "954           951         950  178685     Mi*****  Bu******* 1953-05-29   \n",
            "955           952         951  200865   Si*******     Na**** 1962-12-16   \n",
            "\n",
            "    country marital_status  number_of_kids               employment  \n",
            "0        AR            1.0             2.0             Web Designer  \n",
            "1        AR            1.0             0.0                   Banker  \n",
            "2        AR            1.0             0.0            Kitchen staff  \n",
            "3        AR            1.0             0.0       Teaching Assistant  \n",
            "4        AR            1.0             0.0  Administrative employee  \n",
            "..      ...            ...             ...                      ...  \n",
            "950      ZA            1.0             2.0                Professor  \n",
            "952      ZA            0.0             1.0             Web Designer  \n",
            "953      ZA            0.0             2.0             Web Designer  \n",
            "954      ZA            0.0             1.0                Professor  \n",
            "955      ZA            0.0             0.0             Web Designer  \n",
            "\n",
            "[714 rows x 10 columns]\n"
          ]
        }
      ],
      "source": [
        "#check the dataset with user data\n",
        "print(\"DataFrame after dropping records with null values:\")\n",
        "print(UR_cleaned)"
      ]
    },
    {
      "cell_type": "code",
      "execution_count": 238,
      "metadata": {
        "id": "C8XXKKWVGa5_",
        "colab": {
          "base_uri": "https://localhost:8080/"
        },
        "outputId": "7b5bf96e-7e03-4999-d2df-595c4c5a48a2"
      },
      "outputs": [
        {
          "output_type": "stream",
          "name": "stdout",
          "text": [
            "       Unnamed: 0 flightName departure destination        date  userID\n",
            "0               0    KX65826        AR          IT  20-01-2010  317991\n",
            "1               1    CL12336        IT          MT  16-06-2010  317991\n",
            "2               2   YN106988        MT          SE  08-05-2011  317991\n",
            "3               3    CB58289        SE          EE  08-11-2011  317991\n",
            "4               4   SX625101        EE          AZ  17-11-2011  317991\n",
            "...           ...        ...       ...         ...         ...     ...\n",
            "25394       25398    BM96341        PR          DE  31-10-2020  102637\n",
            "25395       25399   SA710311        DE          CR  14-09-2021  102637\n",
            "25396       25400    BB83468        CR          DK  22-11-2021  102637\n",
            "25397       25401   ZS810988        DK          ES  05-09-2022  102637\n",
            "25398       25402   NZ108647        ES          SE  14-02-2023  102637\n",
            "\n",
            "[25399 rows x 6 columns]\n"
          ]
        }
      ],
      "source": [
        "#check the dataset with the flight records\n",
        "print(travelRecords)"
      ]
    },
    {
      "cell_type": "markdown",
      "metadata": {
        "id": "Mp1SB0TPKoKM"
      },
      "source": [
        "[Merging](https://pandas.pydata.org/docs/user_guide/merging.html) the two datasets:\n",
        "\n",
        "*Hint: Use the above questions to identify on what feature to merge the datasets*\n",
        "The result should contain the features flightName, Departure, Arrival,  Date, UserID, first_name, last_name, etc..."
      ]
    },
    {
      "cell_type": "markdown",
      "metadata": {
        "id": "lpN8LzwFCNqp"
      },
      "source": [
        "We can now drop the travel values for users who have been removed from the suspect list prior. (The ones that had missing values)\n"
      ]
    },
    {
      "cell_type": "code",
      "execution_count": 239,
      "metadata": {
        "id": "SJbpo03uHBcW",
        "colab": {
          "base_uri": "https://localhost:8080/"
        },
        "outputId": "106d80e0-2580-4b0e-a34c-430e0afd7bf8"
      },
      "outputs": [
        {
          "output_type": "stream",
          "name": "stdout",
          "text": [
            "       Unnamed: 0_x flightName departure destination        date  userID  \\\n",
            "0                 0    KX65826        AR          IT  20-01-2010  317991   \n",
            "1                 1    CL12336        IT          MT  16-06-2010  317991   \n",
            "2                 2   YN106988        MT          SE  08-05-2011  317991   \n",
            "3                 3    CB58289        SE          EE  08-11-2011  317991   \n",
            "4                 4   SX625101        EE          AZ  17-11-2011  317991   \n",
            "...             ...        ...       ...         ...         ...     ...   \n",
            "19032         25370    IY61324        PL          ZA  01-09-2020  200865   \n",
            "19033         25371    JO46672        ZA          DZ  20-07-2021  200865   \n",
            "19034         25372  HX1014810        DZ          CR  22-01-2022  200865   \n",
            "19035         25373   DL869109        CR          GT  28-04-2022  200865   \n",
            "19036         25374    XK61479        GT          KR  24-03-2023  200865   \n",
            "\n",
            "       Unnamed: 0.1  Unnamed: 0_y first_name last_name   birthday country  \\\n",
            "0                 0             0      Lu***   Al***** 2003-07-29      AR   \n",
            "1                 0             0      Lu***   Al***** 2003-07-29      AR   \n",
            "2                 0             0      Lu***   Al***** 2003-07-29      AR   \n",
            "3                 0             0      Lu***   Al***** 2003-07-29      AR   \n",
            "4                 0             0      Lu***   Al***** 2003-07-29      AR   \n",
            "...             ...           ...        ...       ...        ...     ...   \n",
            "19032           952           951  Si*******    Na**** 1962-12-16      ZA   \n",
            "19033           952           951  Si*******    Na**** 1962-12-16      ZA   \n",
            "19034           952           951  Si*******    Na**** 1962-12-16      ZA   \n",
            "19035           952           951  Si*******    Na**** 1962-12-16      ZA   \n",
            "19036           952           951  Si*******    Na**** 1962-12-16      ZA   \n",
            "\n",
            "      marital_status  number_of_kids    employment  \n",
            "0                1.0             2.0  Web Designer  \n",
            "1                1.0             2.0  Web Designer  \n",
            "2                1.0             2.0  Web Designer  \n",
            "3                1.0             2.0  Web Designer  \n",
            "4                1.0             2.0  Web Designer  \n",
            "...              ...             ...           ...  \n",
            "19032            0.0             0.0  Web Designer  \n",
            "19033            0.0             0.0  Web Designer  \n",
            "19034            0.0             0.0  Web Designer  \n",
            "19035            0.0             0.0  Web Designer  \n",
            "19036            0.0             0.0  Web Designer  \n",
            "\n",
            "[19037 rows x 15 columns]\n"
          ]
        }
      ],
      "source": [
        "UR_cleaned = UR_cleaned.rename(columns={'UserID': 'userID'})\n",
        "merged_TR = pd.merge(travelRecords, UR_cleaned, on='userID', how='inner')\n",
        "print(merged_TR)"
      ]
    },
    {
      "cell_type": "markdown",
      "metadata": {
        "id": "wmVg_OcqCzPe"
      },
      "source": [
        "Let's now identify the user who has travelled to the United States (US) between the 1st of september 2019 and the 31st of october 2020\n",
        "\n",
        "*Note that the travel date is not in datetime format*"
      ]
    },
    {
      "cell_type": "code",
      "source": [
        "merged_TR['year'] = pd.to_datetime(merged_TR['date'], format='%d-%m-%Y').dt.year\n",
        "merged_TR_sorted = merged_TR.sort_values(by=['userID', 'date'], ascending=[True, True])\n",
        "\n",
        "print(merged_TR_sorted)"
      ],
      "metadata": {
        "colab": {
          "base_uri": "https://localhost:8080/"
        },
        "id": "IgwHLvaFxPj1",
        "outputId": "29f0c937-92b2-47c1-bdd5-94aa01272c18"
      },
      "execution_count": 240,
      "outputs": [
        {
          "output_type": "stream",
          "name": "stdout",
          "text": [
            "       Unnamed: 0_x flightName departure destination        date  userID  \\\n",
            "17248         22988   WN271066        GB          SE  01-08-2020   96249   \n",
            "17237         22977    VN34319        FI          ES  02-05-2014   96249   \n",
            "17240         22980    IG65221        US          BE  02-09-2015   96249   \n",
            "17229         22969   GK102545        PL          IE  03-03-2011   96249   \n",
            "17236         22976   YB109328        CO          FI  03-10-2013   96249   \n",
            "...             ...        ...       ...         ...         ...     ...   \n",
            "1496           2405   NR716910        CA          BE  23-12-2011  957997   \n",
            "1493           2402    YI97939        TR          DE  24-10-2010  957997   \n",
            "1516           2425   RX810748        CO          BE  26-10-2020  957997   \n",
            "1513           2422    CV66585        BD          NL  28-11-2018  957997   \n",
            "1503           2412   LP397810        SG          ZA  30-08-2014  957997   \n",
            "\n",
            "       Unnamed: 0.1  Unnamed: 0_y  first_name last_name   birthday country  \\\n",
            "17248           863           862        Er**   Pe***** 1995-07-21      SE   \n",
            "17237           863           862        Er**   Pe***** 1995-07-21      SE   \n",
            "17240           863           862        Er**   Pe***** 1995-07-21      SE   \n",
            "17229           863           862        Er**   Pe***** 1995-07-21      SE   \n",
            "17236           863           862        Er**   Pe***** 1995-07-21      SE   \n",
            "...             ...           ...         ...       ...        ...     ...   \n",
            "1496             91            91  Ch********   La***** 1990-08-30      BE   \n",
            "1493             91            91  Ch********   La***** 1990-08-30      BE   \n",
            "1516             91            91  Ch********   La***** 1990-08-30      BE   \n",
            "1513             91            91  Ch********   La***** 1990-08-30      BE   \n",
            "1503             91            91  Ch********   La***** 1990-08-30      BE   \n",
            "\n",
            "      marital_status  number_of_kids               employment  year  \n",
            "17248            1.0             3.0  Administrative employee  2020  \n",
            "17237            1.0             3.0  Administrative employee  2014  \n",
            "17240            1.0             3.0  Administrative employee  2015  \n",
            "17229            1.0             3.0  Administrative employee  2011  \n",
            "17236            1.0             3.0  Administrative employee  2013  \n",
            "...              ...             ...                      ...   ...  \n",
            "1496             0.0             3.0            Kitchen staff  2011  \n",
            "1493             0.0             3.0            Kitchen staff  2010  \n",
            "1516             0.0             3.0            Kitchen staff  2020  \n",
            "1513             0.0             3.0            Kitchen staff  2018  \n",
            "1503             0.0             3.0            Kitchen staff  2014  \n",
            "\n",
            "[19037 rows x 16 columns]\n"
          ]
        }
      ]
    },
    {
      "cell_type": "code",
      "source": [
        "merged_TR_sorted['date'] = pd.to_datetime(merged_TR_sorted['date'], format='%d-%m-%Y')\n",
        "\n",
        "user_ids = merged_TR_sorted['userID'].unique()\n",
        "user_ids_meeting_criteria = []\n",
        "\n",
        "for user_id in user_ids:\n",
        "\n",
        "    user_records = merged_TR_sorted[merged_TR_sorted['userID'] == user_id]\n",
        "\n",
        "    if user_records.empty:\n",
        "      continue\n",
        "\n",
        "    if 'US' not in user_records['destination'].unique():\n",
        "      continue\n",
        "\n",
        "    us_trip_date = user_records[(user_records['destination'] == 'US') & (user_records['date'] <= pd.Timestamp('2019-09-01'))]['date'].max()\n",
        "\n",
        "    if pd.isna(us_trip_date):\n",
        "        continue\n",
        "\n",
        "    records_after_us_trip = user_records[(user_records['date'] > us_trip_date) & (user_records['date'] <= '2020-10-31')]\n",
        "\n",
        "    if records_after_us_trip.empty:\n",
        "      user_ids_meeting_criteria.append(user_id)\n",
        "\n",
        "print(\"List of UserIDs meeting the criteria:\")\n",
        "print(user_ids_meeting_criteria)\n",
        "\n",
        "for user_id in user_ids_meeting_criteria:\n",
        "    user_records = merged_TR_sorted[merged_TR_sorted['userID'] == user_id].sort_values(by=['userID', 'date'], ascending=[True, True])\n",
        "    print(f\"Records for UserID: {user_id}\")\n",
        "    print(user_records)\n",
        "    print(\"\\n\")"
      ],
      "metadata": {
        "colab": {
          "base_uri": "https://localhost:8080/"
        },
        "id": "YspWhsgY5AmE",
        "outputId": "7aa40078-1fd8-4141-baf6-037d4285fa08"
      },
      "execution_count": 242,
      "outputs": [
        {
          "output_type": "stream",
          "name": "stdout",
          "text": [
            "List of UserIDs meeting the criteria:\n",
            "[832011]\n",
            "Records for UserID: 832011\n",
            "       Unnamed: 0_x flightName departure destination       date  userID  \\\n",
            "18414         24550    AK19183        LU          SE 2010-11-01  832011   \n",
            "18415         24551  LX1061108        SE          BD 2011-02-28  832011   \n",
            "18416         24552    BP14885        BD          NL 2011-07-14  832011   \n",
            "18417         24553    BO81961        NL          RU 2012-04-28  832011   \n",
            "18418         24554    OG51281        RU          US 2012-07-13  832011   \n",
            "18419         24555   FS619105        US          CO 2012-08-03  832011   \n",
            "18420         24556    WV17416        CO          SG 2013-02-18  832011   \n",
            "18421         24557    MZ12194        SG          CR 2013-04-23  832011   \n",
            "18422         24558    RY88235        CR          LT 2013-10-13  832011   \n",
            "18423         24559    BL31288        LT          BG 2014-02-23  832011   \n",
            "18424         24560    TQ31792        BG          CZ 2014-06-20  832011   \n",
            "18425         24561   BC107794        CZ          MT 2014-09-29  832011   \n",
            "18426         24562    IW61836        MT          LT 2015-08-07  832011   \n",
            "18427         24563    BM33298        LT          CR 2016-01-12  832011   \n",
            "18428         24564    LN24688        CR          PH 2016-02-29  832011   \n",
            "18429         24565    BV24837        PH          US 2016-12-26  832011   \n",
            "18430         24566  IV1010895        US          MX 2017-10-21  832011   \n",
            "18431         24567    LW34991        MX          PH 2018-10-04  832011   \n",
            "18432         24568    VQ49139        PH          EE 2018-10-12  832011   \n",
            "18433         24569   PL267410        EE          CH 2018-11-08  832011   \n",
            "18434         24570    DW55695        CH          US 2019-04-28  832011   \n",
            "18435         24573    BW94641        US          SG 2020-12-21  832011   \n",
            "18436         24574    NS48133        SG          US 2021-07-19  832011   \n",
            "18437         24575    IV58656        US          EE 2022-03-06  832011   \n",
            "18438         24576    KD79692        EE          BD 2022-08-29  832011   \n",
            "18439         24577    TZ95374        BD          GT 2022-09-12  832011   \n",
            "18440         24578   XG310976        GT          RU 2023-06-22  832011   \n",
            "\n",
            "       Unnamed: 0.1  Unnamed: 0_y first_name last_name   birthday country  \\\n",
            "18414           923           922      Da***     Sm*** 1979-09-02      US   \n",
            "18415           923           922      Da***     Sm*** 1979-09-02      US   \n",
            "18416           923           922      Da***     Sm*** 1979-09-02      US   \n",
            "18417           923           922      Da***     Sm*** 1979-09-02      US   \n",
            "18418           923           922      Da***     Sm*** 1979-09-02      US   \n",
            "18419           923           922      Da***     Sm*** 1979-09-02      US   \n",
            "18420           923           922      Da***     Sm*** 1979-09-02      US   \n",
            "18421           923           922      Da***     Sm*** 1979-09-02      US   \n",
            "18422           923           922      Da***     Sm*** 1979-09-02      US   \n",
            "18423           923           922      Da***     Sm*** 1979-09-02      US   \n",
            "18424           923           922      Da***     Sm*** 1979-09-02      US   \n",
            "18425           923           922      Da***     Sm*** 1979-09-02      US   \n",
            "18426           923           922      Da***     Sm*** 1979-09-02      US   \n",
            "18427           923           922      Da***     Sm*** 1979-09-02      US   \n",
            "18428           923           922      Da***     Sm*** 1979-09-02      US   \n",
            "18429           923           922      Da***     Sm*** 1979-09-02      US   \n",
            "18430           923           922      Da***     Sm*** 1979-09-02      US   \n",
            "18431           923           922      Da***     Sm*** 1979-09-02      US   \n",
            "18432           923           922      Da***     Sm*** 1979-09-02      US   \n",
            "18433           923           922      Da***     Sm*** 1979-09-02      US   \n",
            "18434           923           922      Da***     Sm*** 1979-09-02      US   \n",
            "18435           923           922      Da***     Sm*** 1979-09-02      US   \n",
            "18436           923           922      Da***     Sm*** 1979-09-02      US   \n",
            "18437           923           922      Da***     Sm*** 1979-09-02      US   \n",
            "18438           923           922      Da***     Sm*** 1979-09-02      US   \n",
            "18439           923           922      Da***     Sm*** 1979-09-02      US   \n",
            "18440           923           922      Da***     Sm*** 1979-09-02      US   \n",
            "\n",
            "      marital_status  number_of_kids employment  year  \n",
            "18414            0.0             2.0     Lawyer  2010  \n",
            "18415            0.0             2.0     Lawyer  2011  \n",
            "18416            0.0             2.0     Lawyer  2011  \n",
            "18417            0.0             2.0     Lawyer  2012  \n",
            "18418            0.0             2.0     Lawyer  2012  \n",
            "18419            0.0             2.0     Lawyer  2012  \n",
            "18420            0.0             2.0     Lawyer  2013  \n",
            "18421            0.0             2.0     Lawyer  2013  \n",
            "18422            0.0             2.0     Lawyer  2013  \n",
            "18423            0.0             2.0     Lawyer  2014  \n",
            "18424            0.0             2.0     Lawyer  2014  \n",
            "18425            0.0             2.0     Lawyer  2014  \n",
            "18426            0.0             2.0     Lawyer  2015  \n",
            "18427            0.0             2.0     Lawyer  2016  \n",
            "18428            0.0             2.0     Lawyer  2016  \n",
            "18429            0.0             2.0     Lawyer  2016  \n",
            "18430            0.0             2.0     Lawyer  2017  \n",
            "18431            0.0             2.0     Lawyer  2018  \n",
            "18432            0.0             2.0     Lawyer  2018  \n",
            "18433            0.0             2.0     Lawyer  2018  \n",
            "18434            0.0             2.0     Lawyer  2019  \n",
            "18435            0.0             2.0     Lawyer  2020  \n",
            "18436            0.0             2.0     Lawyer  2021  \n",
            "18437            0.0             2.0     Lawyer  2022  \n",
            "18438            0.0             2.0     Lawyer  2022  \n",
            "18439            0.0             2.0     Lawyer  2022  \n",
            "18440            0.0             2.0     Lawyer  2023  \n",
            "\n",
            "\n"
          ]
        }
      ]
    },
    {
      "cell_type": "markdown",
      "metadata": {
        "id": "6nh27RK8cMJZ"
      },
      "source": [
        "## [Data visualisation ](https://pandas.pydata.org/docs/user_guide/visualization.html)\n",
        "\n",
        " Suisse Impossible Mission Force is happy with the result and would like to have some visual aid to make a profile of the potential suspects"
      ]
    },
    {
      "cell_type": "markdown",
      "metadata": {
        "id": "5mX8w6H7c6ro"
      },
      "source": [
        "Let's first make a pie chart to visualise the different employments held from the current suspects:"
      ]
    },
    {
      "cell_type": "code",
      "execution_count": 241,
      "metadata": {
        "id": "5Muyk-xMc7h6",
        "colab": {
          "base_uri": "https://localhost:8080/",
          "height": 682
        },
        "outputId": "e9024b8f-855d-4e9c-d872-e6c36ab46820"
      },
      "outputs": [
        {
          "output_type": "display_data",
          "data": {
            "text/plain": [
              "<Figure size 800x800 with 1 Axes>"
            ],
            "image/png": "[encoded data removed]"
          },
          "metadata": {}
        }
      ],
      "source": [
        "plt.figure(figsize=(8, 8))\n",
        "UR_cleaned['employment'].value_counts().plot(kind='pie', autopct='%1.1f%%', startangle=140)\n",
        "plt.title('Employment Distribution')\n",
        "plt.axis('equal')  # Equal aspect ratio ensures that pie is drawn as a circle\n",
        "plt.ylabel('')  # Remove the ylabel\n",
        "plt.show()"
      ]
    },
    {
      "cell_type": "markdown",
      "metadata": {
        "id": "WBUy4QHHiWuO"
      },
      "source": [
        "## Journey length\n",
        "\n",
        "Suisse Impossible Mission Force believes the rogue agent is an outlier from his declared category based on the days spent there compared to others.\n",
        "\n",
        "We can use boxplots to identify outliers per employment category."
      ]
    },
    {
      "cell_type": "markdown",
      "metadata": {
        "id": "uiKyLYwHcCJ-"
      },
      "source": [
        "Let's first make two tables, one with the date of arrival and one with the date of departure. You can reuse your previous dataset and identify the arrival and departure date using the destination and departure features on the dataset. Note that the arrival and the departure dates should fall between the time period when the suspect is belived to have visited the US - between Sept 2019 to Oct 2020."
      ]
    },
    {
      "cell_type": "code",
      "execution_count": 334,
      "metadata": {
        "id": "pZvGcHwbv0e7",
        "colab": {
          "base_uri": "https://localhost:8080/"
        },
        "outputId": "c2b5acd8-c1ee-4810-9bbe-8352eb947a04"
      },
      "outputs": [
        {
          "output_type": "stream",
          "name": "stdout",
          "text": [
            "Table for Arrivals to US:\n",
            "       Unnamed: 0_x flightName departure destination date of arrival  userID  \\\n",
            "18116         24196    PK41837        PL          US      2020-07-19  123699   \n",
            "14639         19634    HA26526        HU          US      2019-11-10  139646   \n",
            "2289           3454   TF469810        IT          US      2020-03-17  220420   \n",
            "463             638  OO3731010        CA          US      2020-04-10  255830   \n",
            "4897           7177    HX23943        CO          US      2020-10-10  267733   \n",
            "7913          11309    BF79684        RU          US      2020-02-16  287607   \n",
            "2702           4036    MX97137        FR          US      2020-07-23  297653   \n",
            "18283         24390    IH35877        IT          US      2020-10-07  409055   \n",
            "9990          13874   OS610439        JP          US      2020-04-23  410319   \n",
            "8452          11956   YO910418        AR          US      2020-08-19  411537   \n",
            "8979          12512    IU77244        CO          US      2020-09-20  424791   \n",
            "17222         22962    KM72712        IS          US      2020-05-28  428951   \n",
            "5349           7823   JE532410        CH          US      2020-06-26  429697   \n",
            "7588          10825    SA39423        BE          US      2020-10-06  434361   \n",
            "246             268   MG891910        AR          US      2020-07-16  468560   \n",
            "7451          10609    PP35996        HU          US      2020-05-03  481578   \n",
            "12165         16499    XD18258        IT          US      2019-10-13  556033   \n",
            "18141         24248    RZ41582        HR          US      2019-10-15  581969   \n",
            "14875         19916    WQ77186        MX          US      2020-07-29  628854   \n",
            "16340         21727    DZ61923        MD          US      2020-01-09  638911   \n",
            "16771         22338    XB61871        SE          US      2020-08-04  642133   \n",
            "7179          10267   LY781032        BR          US      2020-04-18  649131   \n",
            "9623          13286    XQ62824        CA          US      2020-01-23  679196   \n",
            "18362         24471    AF35718        CR          US      2020-01-17  707686   \n",
            "4089           5998    NY87398        BE          US      2019-09-17  710764   \n",
            "17644         23598  DK1015102        BG          US      2020-04-21  739104   \n",
            "15972         21286    SH63275        AR          US      2019-09-20  762279   \n",
            "16632         22121    SR31584        BR          US      2020-06-09  785994   \n",
            "7665          10926  XE1036910        JP          US      2020-01-14  804662   \n",
            "18312         24419   FB732410        MT          US      2020-01-28  850103   \n",
            "17894         23974    GZ86777        HU          US      2020-01-04  852352   \n",
            "958            1525    GU84573        ES          US      2020-02-10  861915   \n",
            "18707         24989   BT519103        NL          US      2020-05-09  866017   \n",
            "18384         24493   QA221095        AT          US      2019-12-23  942571   \n",
            "\n",
            "       Unnamed: 0.1  Unnamed: 0_y  first_name  last_name   birthday country  \\\n",
            "18116           909           908     Je*****      Pe*** 1955-03-18      US   \n",
            "14639           737           736        Ka**     Ha**** 1975-03-29      NO   \n",
            "2289            130           130     Ma*****     So**** 1984-12-23      BR   \n",
            "463              23            23   Ch*******     Be**** 1959-12-26      AT   \n",
            "4897            269           269       Sø***     Ma**** 1998-09-14      DK   \n",
            "7913            425           425      Lu****      Bo*** 1973-06-07      HR   \n",
            "2702            152           152       Br***       Wo** 1968-09-22      CA   \n",
            "18283           916           915       Li***       Di** 1971-05-25      US   \n",
            "9990            521           521  Al********    Bi***** 1967-02-10      IT   \n",
            "8452            449           449      An****       Pa** 1972-11-27      HU   \n",
            "8979            470           470       Fi***   Mc****** 1974-06-23      IE   \n",
            "17222           862           861      Ni****    Ni***** 1954-06-19      SE   \n",
            "5349            293           293        Li**     Re**** 1959-07-28      EE   \n",
            "7588            407           407   El*******      Ra*** 1999-07-19      GT   \n",
            "246               9             9    Ga******  Fe******* 1960-04-18      AR   \n",
            "7451            399           399      Br****    De***** 1963-07-31      GT   \n",
            "12165           620           620      Ма****    Tu***** 1954-03-26      MD   \n",
            "18141           911           910       Na***      Sm*** 1958-07-27      US   \n",
            "14875           748           747    Kr******      Di*** 1986-01-04      PH   \n",
            "16340           816           815     На*****    Во***** 1985-05-08      RU   \n",
            "16771           839           838      Ni****   Sv****** 1978-05-31      SE   \n",
            "7179            386           386       Ju***     Wi**** 1991-07-04      GB   \n",
            "9623            499           499        Pu**     Ra**** 1988-07-25      IN   \n",
            "18362           919           918        Jo**     Fl**** 1990-08-22      US   \n",
            "4089            225           225     Ra*****  He******* 1976-05-27      CR   \n",
            "17644           886           885        Em**     Öz**** 1962-05-28      TR   \n",
            "15972           799           798        In**    Al***** 1955-02-18      PT   \n",
            "16632           831           830      Га****   Мо****** 1996-09-09      RU   \n",
            "7665            411           411       Er***  He******* 1954-08-08      GT   \n",
            "18312           917           916        Li**      Pa*** 1953-12-13      US   \n",
            "17894           901           900     Hü*****      Çe*** 2004-04-09      TR   \n",
            "958              57            57       Ay***    Al***** 1978-02-26      AZ   \n",
            "18707           938           937       Ma***      Lo*** 1953-10-01      US   \n",
            "18384           920           919        Lu**    Sa***** 1958-11-19      US   \n",
            "\n",
            "      marital_status  number_of_kids               employment  year  \n",
            "18116            0.0             0.0                   Lawyer  2020  \n",
            "14639            1.0             1.0                   Doctor  2019  \n",
            "2289             0.0             3.0             Web Designer  2020  \n",
            "463              1.0             1.0                Professor  2020  \n",
            "4897             0.0             0.0            Kitchen staff  2020  \n",
            "7913             0.0             3.0            Kitchen staff  2020  \n",
            "2702             1.0             0.0                   Lawyer  2020  \n",
            "18283            1.0             0.0                Librarian  2020  \n",
            "9990             1.0             0.0                   Lawyer  2020  \n",
            "8452             1.0             4.0             Web Designer  2020  \n",
            "8979             1.0             2.0       Teaching Assistant  2020  \n",
            "17222            1.0             4.0            Kitchen staff  2020  \n",
            "5349             1.0             3.0  Administrative employee  2020  \n",
            "7588             0.0             0.0            Kitchen staff  2020  \n",
            "246              1.0             2.0                   Lawyer  2020  \n",
            "7451             1.0             0.0  Administrative employee  2020  \n",
            "12165            1.0             2.0             Web Designer  2019  \n",
            "18141            0.0             3.0                Librarian  2019  \n",
            "14875            1.0             1.0                  Manager  2020  \n",
            "16340            0.0             2.0            Kitchen staff  2020  \n",
            "16771            0.0             0.0       Teaching Assistant  2020  \n",
            "7179             1.0             3.0                   Banker  2020  \n",
            "9623             1.0             0.0                Librarian  2020  \n",
            "18362            1.0             2.0               Consultant  2020  \n",
            "4089             0.0             4.0                  Manager  2019  \n",
            "17644            1.0             1.0                Professor  2020  \n",
            "15972            0.0             1.0                   Doctor  2019  \n",
            "16632            1.0             1.0  Administrative employee  2020  \n",
            "7665             1.0             1.0               Consultant  2020  \n",
            "18312            1.0             3.0                Librarian  2020  \n",
            "17894            1.0             0.0                Professor  2020  \n",
            "958              0.0             1.0                   Doctor  2020  \n",
            "18707            0.0             0.0                  Manager  2020  \n",
            "18384            0.0             4.0             Web Designer  2019  \n",
            "\n",
            "Table for Departures from US:\n",
            "       Unnamed: 0_x flightName departure destination date of departure  \\\n",
            "14640         19635   ZV283105        US          JP        2020-07-29   \n",
            "19004         25342    MN23734        US          FR        2019-10-18   \n",
            "464             639    FR31198        US          NL        2020-10-07   \n",
            "1298           2151   DI331075        US          NO        2019-11-17   \n",
            "7914          11310   SE368710        US          CR        2020-06-30   \n",
            "5466           7940   JG784107        US          IE        2019-10-21   \n",
            "8980          12513   QE110615        US          PR        2020-10-06   \n",
            "17223         22963  GU3610109        US          EE        2020-08-01   \n",
            "7452          10610    WA86122        US          HU        2020-07-02   \n",
            "3108           4583   OQ110536        US          BG        2019-10-10   \n",
            "12166         16500    QA22398        US          LT        2019-10-22   \n",
            "18142         24249    HZ27926        US          MX        2020-07-05   \n",
            "14876         19917   MQ671061        US          JP        2020-09-11   \n",
            "16341         21728    YR96927        US          MD        2020-06-26   \n",
            "4809           7064    FX88473        US          PH        2019-09-27   \n",
            "9624          13287  DT1064710        US          CA        2020-10-29   \n",
            "17061         22776    NV36745        US          SE        2019-09-26   \n",
            "4090           5999   TA510851        US          GB        2019-10-04   \n",
            "14327         19153    EQ44788        US          AZ        2019-10-24   \n",
            "17645         23599    HR98383        US          SE        2020-05-18   \n",
            "3958           5867   UM753101        US          CA        2020-01-13   \n",
            "11226         15406   VR107149        US          GT        2019-10-30   \n",
            "15973         21287   SJ261310        US          PT        2020-08-11   \n",
            "8473          11977   NY109815        US          PL        2020-06-16   \n",
            "7666          10927    VY46165        US          SE        2020-08-05   \n",
            "17718         23720    AG48664        US          SG        2020-02-25   \n",
            "18313         24420    MX13526        US          GB        2020-05-01   \n",
            "17895         23975    EJ82971        US          KR        2020-03-29   \n",
            "18708         24990    QH15945        US          AR        2020-07-12   \n",
            "18224         24331    NF84864        US          CZ        2020-03-28   \n",
            "12197         16531   IU922108        US          NO        2019-11-10   \n",
            "18385         24494    AO33916        US          SE        2020-06-25   \n",
            "\n",
            "       userID  Unnamed: 0.1  Unnamed: 0_y first_name    last_name   birthday  \\\n",
            "14640  139646           737           736       Ka**       Ha**** 1975-03-29   \n",
            "19004  178685           951           950    Mi*****    Bu******* 1953-05-29   \n",
            "464    255830            23            23  Ch*******       Be**** 1959-12-26   \n",
            "1298   265615            81            81       Er**      La***** 1967-03-13   \n",
            "7914   287607           425           425     Lu****        Bo*** 1973-06-07   \n",
            "5466   412064           298           298      Ол***         Se** 1974-07-30   \n",
            "8980   424791           470           470      Fi***     Mc****** 1974-06-23   \n",
            "17223  428951           862           861     Ni****      Ni***** 1954-06-19   \n",
            "7452   481578           399           399     Br****      De***** 1963-07-31   \n",
            "3108   494514           172           172  Al*******       Ca**** 1979-04-02   \n",
            "12166  556033           620           620     Ма****      Tu***** 1954-03-26   \n",
            "18142  581969           911           910      Na***        Sm*** 1958-07-27   \n",
            "14876  628854           748           747   Kr******        Di*** 1986-01-04   \n",
            "16341  638911           816           815    На*****      Во***** 1985-05-08   \n",
            "4809   648234           265           265     An****       Mø**** 1975-02-19   \n",
            "9624   679196           499           499       Pu**       Ra**** 1988-07-25   \n",
            "17061  708256           855           854       Ma**    Ma******* 2002-10-10   \n",
            "4090   710764           225           225    Ra*****    He******* 1976-05-27   \n",
            "14327  722924           720           719    Pa*****      Br***** 1983-08-26   \n",
            "17645  739104           886           885       Em**       Öz**** 1962-05-28   \n",
            "3958   744124           220           220     Ma****     Ca****** 1972-05-01   \n",
            "11226  748037           579           579       Eg**  Sa********* 1988-01-05   \n",
            "15973  762279           799           798       In**      Al***** 1955-02-18   \n",
            "8473   795804           450           450    No*****       Ba**** 1975-06-28   \n",
            "7666   804662           411           411      Er***    He******* 1954-08-08   \n",
            "17718  828218           891           890      Hü***     Yı****** 1970-07-16   \n",
            "18313  850103           917           916       Li**        Pa*** 1953-12-13   \n",
            "17895  852352           901           900    Hü*****        Çe*** 2004-04-09   \n",
            "18708  866017           938           937      Ma***        Lo*** 1953-10-01   \n",
            "18224  895839           914           913        An*     Ma****** 1973-10-21   \n",
            "12197  931749           621           621  Ан*******       Mo**** 1990-05-19   \n",
            "18385  942571           920           919       Lu**      Sa***** 1958-11-19   \n",
            "\n",
            "      country marital_status  number_of_kids               employment  year  \n",
            "14640      NO            1.0             1.0                   Doctor  2020  \n",
            "19004      ZA            0.0             1.0                Professor  2019  \n",
            "464        AT            1.0             1.0                Professor  2020  \n",
            "1298       BE            1.0             2.0             Web Designer  2019  \n",
            "7914       HR            0.0             3.0            Kitchen staff  2020  \n",
            "5466       EE            0.0             0.0                   Banker  2019  \n",
            "8980       IE            1.0             2.0       Teaching Assistant  2020  \n",
            "17223      SE            1.0             4.0            Kitchen staff  2020  \n",
            "7452       GT            1.0             0.0  Administrative employee  2020  \n",
            "3108       CL            1.0             2.0               Consultant  2019  \n",
            "12166      MD            1.0             2.0             Web Designer  2019  \n",
            "18142      US            0.0             3.0                Librarian  2020  \n",
            "14876      PH            1.0             1.0                  Manager  2020  \n",
            "16341      RU            0.0             2.0            Kitchen staff  2020  \n",
            "4809       DK            0.0             2.0            Kitchen staff  2019  \n",
            "9624       IN            1.0             0.0                Librarian  2020  \n",
            "17061      SE            0.0             0.0                Professor  2019  \n",
            "4090       CR            0.0             4.0                  Manager  2019  \n",
            "14327      NL            0.0             1.0             Web Designer  2019  \n",
            "17645      TR            1.0             1.0                Professor  2020  \n",
            "3958       CR            1.0             0.0                   Lawyer  2020  \n",
            "11226      LT            0.0             1.0             Web Designer  2019  \n",
            "15973      PT            0.0             1.0                   Doctor  2020  \n",
            "8473       HU            1.0             1.0  Administrative employee  2020  \n",
            "7666       GT            1.0             1.0               Consultant  2020  \n",
            "17718      TR            1.0             4.0             Web Designer  2020  \n",
            "18313      US            1.0             3.0                Librarian  2020  \n",
            "17895      TR            1.0             0.0                Professor  2020  \n",
            "18708      US            0.0             0.0                  Manager  2020  \n",
            "18224      US            1.0             1.0            Kitchen staff  2020  \n",
            "12197      MD            1.0             0.0                   Doctor  2019  \n",
            "18385      US            0.0             4.0             Web Designer  2020  \n"
          ]
        }
      ],
      "source": [
        "arrival_us = merged_TR_sorted[(merged_TR_sorted['destination'] == 'US') &\n",
        "                                (merged_TR_sorted['date'] >= '2019-09-01') &\n",
        "                              (merged_TR_sorted['date'] < '2020-10-31')].rename(columns={'date': 'date of arrival'})\n",
        "print(\"Table for Arrivals to US:\")\n",
        "print(arrival_us)\n",
        "\n",
        "\n",
        "departure_us = merged_TR_sorted[(merged_TR_sorted['departure'] == 'US') &\n",
        "                                (merged_TR_sorted['date'] <= '2020-10-31')&\n",
        "                                (merged_TR_sorted['date'] > '2019-09-01')].rename(columns={'date': 'date of departure'})\n",
        "print(\"\\nTable for Departures from US:\")\n",
        "print(departure_us)"
      ]
    },
    {
      "cell_type": "markdown",
      "metadata": {
        "id": "_gXDZXu0LUa5"
      },
      "source": [
        "We can keep on both these tables the user ID, employment, and departure date / arrival date."
      ]
    },
    {
      "cell_type": "code",
      "source": [
        "arrival_us = arrival_us.loc[:,['userID', 'employment', 'date of arrival']]\n",
        "print(\"Table for Arrivals to US:\")\n",
        "print(arrival_us)\n",
        "\n",
        "departure_us = departure_us.loc[:,['userID', 'employment', 'date of departure']]\n",
        "print(\"\\nTable for Departures from US:\")\n",
        "print(departure_us)"
      ],
      "metadata": {
        "colab": {
          "base_uri": "https://localhost:8080/"
        },
        "id": "Zf0p3kzUZMGP",
        "outputId": "2392566d-a8aa-43e3-b0bc-a1355f8f26a3"
      },
      "execution_count": 335,
      "outputs": [
        {
          "output_type": "stream",
          "name": "stdout",
          "text": [
            "Table for Arrivals to US:\n",
            "       userID               employment date of arrival\n",
            "18116  123699                   Lawyer      2020-07-19\n",
            "14639  139646                   Doctor      2019-11-10\n",
            "2289   220420             Web Designer      2020-03-17\n",
            "463    255830                Professor      2020-04-10\n",
            "4897   267733            Kitchen staff      2020-10-10\n",
            "7913   287607            Kitchen staff      2020-02-16\n",
            "2702   297653                   Lawyer      2020-07-23\n",
            "18283  409055                Librarian      2020-10-07\n",
            "9990   410319                   Lawyer      2020-04-23\n",
            "8452   411537             Web Designer      2020-08-19\n",
            "8979   424791       Teaching Assistant      2020-09-20\n",
            "17222  428951            Kitchen staff      2020-05-28\n",
            "5349   429697  Administrative employee      2020-06-26\n",
            "7588   434361            Kitchen staff      2020-10-06\n",
            "246    468560                   Lawyer      2020-07-16\n",
            "7451   481578  Administrative employee      2020-05-03\n",
            "12165  556033             Web Designer      2019-10-13\n",
            "18141  581969                Librarian      2019-10-15\n",
            "14875  628854                  Manager      2020-07-29\n",
            "16340  638911            Kitchen staff      2020-01-09\n",
            "16771  642133       Teaching Assistant      2020-08-04\n",
            "7179   649131                   Banker      2020-04-18\n",
            "9623   679196                Librarian      2020-01-23\n",
            "18362  707686               Consultant      2020-01-17\n",
            "4089   710764                  Manager      2019-09-17\n",
            "17644  739104                Professor      2020-04-21\n",
            "15972  762279                   Doctor      2019-09-20\n",
            "16632  785994  Administrative employee      2020-06-09\n",
            "7665   804662               Consultant      2020-01-14\n",
            "18312  850103                Librarian      2020-01-28\n",
            "17894  852352                Professor      2020-01-04\n",
            "958    861915                   Doctor      2020-02-10\n",
            "18707  866017                  Manager      2020-05-09\n",
            "18384  942571             Web Designer      2019-12-23\n",
            "\n",
            "Table for Departures from US:\n",
            "       userID               employment date of departure\n",
            "14640  139646                   Doctor        2020-07-29\n",
            "19004  178685                Professor        2019-10-18\n",
            "464    255830                Professor        2020-10-07\n",
            "1298   265615             Web Designer        2019-11-17\n",
            "7914   287607            Kitchen staff        2020-06-30\n",
            "5466   412064                   Banker        2019-10-21\n",
            "8980   424791       Teaching Assistant        2020-10-06\n",
            "17223  428951            Kitchen staff        2020-08-01\n",
            "7452   481578  Administrative employee        2020-07-02\n",
            "3108   494514               Consultant        2019-10-10\n",
            "12166  556033             Web Designer        2019-10-22\n",
            "18142  581969                Librarian        2020-07-05\n",
            "14876  628854                  Manager        2020-09-11\n",
            "16341  638911            Kitchen staff        2020-06-26\n",
            "4809   648234            Kitchen staff        2019-09-27\n",
            "9624   679196                Librarian        2020-10-29\n",
            "17061  708256                Professor        2019-09-26\n",
            "4090   710764                  Manager        2019-10-04\n",
            "14327  722924             Web Designer        2019-10-24\n",
            "17645  739104                Professor        2020-05-18\n",
            "3958   744124                   Lawyer        2020-01-13\n",
            "11226  748037             Web Designer        2019-10-30\n",
            "15973  762279                   Doctor        2020-08-11\n",
            "8473   795804  Administrative employee        2020-06-16\n",
            "7666   804662               Consultant        2020-08-05\n",
            "17718  828218             Web Designer        2020-02-25\n",
            "18313  850103                Librarian        2020-05-01\n",
            "17895  852352                Professor        2020-03-29\n",
            "18708  866017                  Manager        2020-07-12\n",
            "18224  895839            Kitchen staff        2020-03-28\n",
            "12197  931749                   Doctor        2019-11-10\n",
            "18385  942571             Web Designer        2020-06-25\n"
          ]
        }
      ]
    },
    {
      "cell_type": "markdown",
      "metadata": {
        "id": "zJR7PDWZL3oO"
      },
      "source": [
        "We can now join the two tables on user ID"
      ]
    },
    {
      "cell_type": "code",
      "execution_count": 339,
      "metadata": {
        "id": "9INyxNK9L3aC",
        "colab": {
          "base_uri": "https://localhost:8080/",
          "height": 662
        },
        "outputId": "ec66f547-be56-441e-c57e-5904c2b2f4bb"
      },
      "outputs": [
        {
          "output_type": "stream",
          "name": "stdout",
          "text": [
            "Filtered Merged table:\n"
          ]
        },
        {
          "output_type": "display_data",
          "data": {
            "text/plain": [
              "    userID             employment_x date of arrival             employment_y  \\\n",
              "0   139646                   Doctor      2019-11-10                   Doctor   \n",
              "1   255830                Professor      2020-04-10                Professor   \n",
              "2   287607            Kitchen staff      2020-02-16            Kitchen staff   \n",
              "3   424791       Teaching Assistant      2020-09-20       Teaching Assistant   \n",
              "4   428951            Kitchen staff      2020-05-28            Kitchen staff   \n",
              "5   481578  Administrative employee      2020-05-03  Administrative employee   \n",
              "6   556033             Web Designer      2019-10-13             Web Designer   \n",
              "7   581969                Librarian      2019-10-15                Librarian   \n",
              "8   628854                  Manager      2020-07-29                  Manager   \n",
              "9   638911            Kitchen staff      2020-01-09            Kitchen staff   \n",
              "10  679196                Librarian      2020-01-23                Librarian   \n",
              "11  710764                  Manager      2019-09-17                  Manager   \n",
              "12  739104                Professor      2020-04-21                Professor   \n",
              "13  762279                   Doctor      2019-09-20                   Doctor   \n",
              "14  804662               Consultant      2020-01-14               Consultant   \n",
              "15  850103                Librarian      2020-01-28                Librarian   \n",
              "16  852352                Professor      2020-01-04                Professor   \n",
              "17  866017                  Manager      2020-05-09                  Manager   \n",
              "18  942571             Web Designer      2019-12-23             Web Designer   \n",
              "\n",
              "   date of departure  \n",
              "0         2020-07-29  \n",
              "1         2020-10-07  \n",
              "2         2020-06-30  \n",
              "3         2020-10-06  \n",
              "4         2020-08-01  \n",
              "5         2020-07-02  \n",
              "6         2019-10-22  \n",
              "7         2020-07-05  \n",
              "8         2020-09-11  \n",
              "9         2020-06-26  \n",
              "10        2020-10-29  \n",
              "11        2019-10-04  \n",
              "12        2020-05-18  \n",
              "13        2020-08-11  \n",
              "14        2020-08-05  \n",
              "15        2020-05-01  \n",
              "16        2020-03-29  \n",
              "17        2020-07-12  \n",
              "18        2020-06-25  "
            ],
            "text/html": [
              "\n",
              "  <div id=\"df-aae10cbb-9cd7-4e1e-b1f3-69c0d7a12fae\" class=\"colab-df-container\">\n",
              "    <div>\n",
              "<style scoped>\n",
              "    .dataframe tbody tr th:only-of-type {\n",
              "        vertical-align: middle;\n",
              "    }\n",
              "\n",
              "    .dataframe tbody tr th {\n",
              "        vertical-align: top;\n",
              "    }\n",
              "\n",
              "    .dataframe thead th {\n",
              "        text-align: right;\n",
              "    }\n",
              "</style>\n",
              "<table border=\"1\" class=\"dataframe\">\n",
              "  <thead>\n",
              "    <tr style=\"text-align: right;\">\n",
              "      <th></th>\n",
              "      <th>userID</th>\n",
              "      <th>employment_x</th>\n",
              "      <th>date of arrival</th>\n",
              "      <th>employment_y</th>\n",
              "      <th>date of departure</th>\n",
              "    </tr>\n",
              "  </thead>\n",
              "  <tbody>\n",
              "    <tr>\n",
              "      <th>0</th>\n",
              "      <td>139646</td>\n",
              "      <td>Doctor</td>\n",
              "      <td>2019-11-10</td>\n",
              "      <td>Doctor</td>\n",
              "      <td>2020-07-29</td>\n",
              "    </tr>\n",
              "    <tr>\n",
              "      <th>1</th>\n",
              "      <td>255830</td>\n",
              "      <td>Professor</td>\n",
              "      <td>2020-04-10</td>\n",
              "      <td>Professor</td>\n",
              "      <td>2020-10-07</td>\n",
              "    </tr>\n",
              "    <tr>\n",
              "      <th>2</th>\n",
              "      <td>287607</td>\n",
              "      <td>Kitchen staff</td>\n",
              "      <td>2020-02-16</td>\n",
              "      <td>Kitchen staff</td>\n",
              "      <td>2020-06-30</td>\n",
              "    </tr>\n",
              "    <tr>\n",
              "      <th>3</th>\n",
              "      <td>424791</td>\n",
              "      <td>Teaching Assistant</td>\n",
              "      <td>2020-09-20</td>\n",
              "      <td>Teaching Assistant</td>\n",
              "      <td>2020-10-06</td>\n",
              "    </tr>\n",
              "    <tr>\n",
              "      <th>4</th>\n",
              "      <td>428951</td>\n",
              "      <td>Kitchen staff</td>\n",
              "      <td>2020-05-28</td>\n",
              "      <td>Kitchen staff</td>\n",
              "      <td>2020-08-01</td>\n",
              "    </tr>\n",
              "    <tr>\n",
              "      <th>5</th>\n",
              "      <td>481578</td>\n",
              "      <td>Administrative employee</td>\n",
              "      <td>2020-05-03</td>\n",
              "      <td>Administrative employee</td>\n",
              "      <td>2020-07-02</td>\n",
              "    </tr>\n",
              "    <tr>\n",
              "      <th>6</th>\n",
              "      <td>556033</td>\n",
              "      <td>Web Designer</td>\n",
              "      <td>2019-10-13</td>\n",
              "      <td>Web Designer</td>\n",
              "      <td>2019-10-22</td>\n",
              "    </tr>\n",
              "    <tr>\n",
              "      <th>7</th>\n",
              "      <td>581969</td>\n",
              "      <td>Librarian</td>\n",
              "      <td>2019-10-15</td>\n",
              "      <td>Librarian</td>\n",
              "      <td>2020-07-05</td>\n",
              "    </tr>\n",
              "    <tr>\n",
              "      <th>8</th>\n",
              "      <td>628854</td>\n",
              "      <td>Manager</td>\n",
              "      <td>2020-07-29</td>\n",
              "      <td>Manager</td>\n",
              "      <td>2020-09-11</td>\n",
              "    </tr>\n",
              "    <tr>\n",
              "      <th>9</th>\n",
              "      <td>638911</td>\n",
              "      <td>Kitchen staff</td>\n",
              "      <td>2020-01-09</td>\n",
              "      <td>Kitchen staff</td>\n",
              "      <td>2020-06-26</td>\n",
              "    </tr>\n",
              "    <tr>\n",
              "      <th>10</th>\n",
              "      <td>679196</td>\n",
              "      <td>Librarian</td>\n",
              "      <td>2020-01-23</td>\n",
              "      <td>Librarian</td>\n",
              "      <td>2020-10-29</td>\n",
              "    </tr>\n",
              "    <tr>\n",
              "      <th>11</th>\n",
              "      <td>710764</td>\n",
              "      <td>Manager</td>\n",
              "      <td>2019-09-17</td>\n",
              "      <td>Manager</td>\n",
              "      <td>2019-10-04</td>\n",
              "    </tr>\n",
              "    <tr>\n",
              "      <th>12</th>\n",
              "      <td>739104</td>\n",
              "      <td>Professor</td>\n",
              "      <td>2020-04-21</td>\n",
              "      <td>Professor</td>\n",
              "      <td>2020-05-18</td>\n",
              "    </tr>\n",
              "    <tr>\n",
              "      <th>13</th>\n",
              "      <td>762279</td>\n",
              "      <td>Doctor</td>\n",
              "      <td>2019-09-20</td>\n",
              "      <td>Doctor</td>\n",
              "      <td>2020-08-11</td>\n",
              "    </tr>\n",
              "    <tr>\n",
              "      <th>14</th>\n",
              "      <td>804662</td>\n",
              "      <td>Consultant</td>\n",
              "      <td>2020-01-14</td>\n",
              "      <td>Consultant</td>\n",
              "      <td>2020-08-05</td>\n",
              "    </tr>\n",
              "    <tr>\n",
              "      <th>15</th>\n",
              "      <td>850103</td>\n",
              "      <td>Librarian</td>\n",
              "      <td>2020-01-28</td>\n",
              "      <td>Librarian</td>\n",
              "      <td>2020-05-01</td>\n",
              "    </tr>\n",
              "    <tr>\n",
              "      <th>16</th>\n",
              "      <td>852352</td>\n",
              "      <td>Professor</td>\n",
              "      <td>2020-01-04</td>\n",
              "      <td>Professor</td>\n",
              "      <td>2020-03-29</td>\n",
              "    </tr>\n",
              "    <tr>\n",
              "      <th>17</th>\n",
              "      <td>866017</td>\n",
              "      <td>Manager</td>\n",
              "      <td>2020-05-09</td>\n",
              "      <td>Manager</td>\n",
              "      <td>2020-07-12</td>\n",
              "    </tr>\n",
              "    <tr>\n",
              "      <th>18</th>\n",
              "      <td>942571</td>\n",
              "      <td>Web Designer</td>\n",
              "      <td>2019-12-23</td>\n",
              "      <td>Web Designer</td>\n",
              "      <td>2020-06-25</td>\n",
              "    </tr>\n",
              "  </tbody>\n",
              "</table>\n",
              "</div>\n",
              "    <div class=\"colab-df-buttons\">\n",
              "\n",
              "  <div class=\"colab-df-container\">\n",
              "    <button class=\"colab-df-convert\" onclick=\"convertToInteractive('df-aae10cbb-9cd7-4e1e-b1f3-69c0d7a12fae')\"\n",
              "            title=\"Convert this dataframe to an interactive table.\"\n",
              "            style=\"display:none;\">\n",
              "\n",
              "  <svg xmlns=\"http://www.w3.org/2000/svg\" height=\"24px\" viewBox=\"0 -960 960 960\">\n",
              "    <path d=\"M120-120v-720h720v720H120Zm60-500h600v-160H180v160Zm220 220h160v-160H400v160Zm0 220h160v-160H400v160ZM180-400h160v-160H180v160Zm440 0h160v-160H620v160ZM180-180h160v-160H180v160Zm440 0h160v-160H620v160Z\"/>\n",
              "  </svg>\n",
              "    </button>\n",
              "\n",
              "  <style>\n",
              "    .colab-df-container {\n",
              "      display:flex;\n",
              "      gap: 12px;\n",
              "    }\n",
              "\n",
              "    .colab-df-convert {\n",
              "      background-color: #E8F0FE;\n",
              "      border: none;\n",
              "      border-radius: 50%;\n",
              "      cursor: pointer;\n",
              "      display: none;\n",
              "      fill: #1967D2;\n",
              "      height: 32px;\n",
              "      padding: 0 0 0 0;\n",
              "      width: 32px;\n",
              "    }\n",
              "\n",
              "    .colab-df-convert:hover {\n",
              "      background-color: #E2EBFA;\n",
              "      box-shadow: 0px 1px 2px rgba(60, 64, 67, 0.3), 0px 1px 3px 1px rgba(60, 64, 67, 0.15);\n",
              "      fill: #174EA6;\n",
              "    }\n",
              "\n",
              "    .colab-df-buttons div {\n",
              "      margin-bottom: 4px;\n",
              "    }\n",
              "\n",
              "    [theme=dark] .colab-df-convert {\n",
              "      background-color: #3B4455;\n",
              "      fill: #D2E3FC;\n",
              "    }\n",
              "\n",
              "    [theme=dark] .colab-df-convert:hover {\n",
              "      background-color: #434B5C;\n",
              "      box-shadow: 0px 1px 3px 1px rgba(0, 0, 0, 0.15);\n",
              "      filter: drop-shadow(0px 1px 2px rgba(0, 0, 0, 0.3));\n",
              "      fill: #FFFFFF;\n",
              "    }\n",
              "  </style>\n",
              "\n",
              "    <script>\n",
              "      const buttonEl =\n",
              "        document.querySelector('#df-aae10cbb-9cd7-4e1e-b1f3-69c0d7a12fae button.colab-df-convert');\n",
              "      buttonEl.style.display =\n",
              "        google.colab.kernel.accessAllowed ? 'block' : 'none';\n",
              "\n",
              "      async function convertToInteractive(key) {\n",
              "        const element = document.querySelector('#df-aae10cbb-9cd7-4e1e-b1f3-69c0d7a12fae');\n",
              "        const dataTable =\n",
              "          await google.colab.kernel.invokeFunction('convertToInteractive',\n",
              "                                                    [key], {});\n",
              "        if (!dataTable) return;\n",
              "\n",
              "        const docLinkHtml = 'Like what you see? Visit the ' +\n",
              "          '<a target=\"_blank\" href=https://colab.research.google.com/notebooks/data_table.ipynb>data table notebook</a>'\n",
              "          + ' to learn more about interactive tables.';\n",
              "        element.innerHTML = '';\n",
              "        dataTable['output_type'] = 'display_data';\n",
              "        await google.colab.output.renderOutput(dataTable, element);\n",
              "        const docLink = document.createElement('div');\n",
              "        docLink.innerHTML = docLinkHtml;\n",
              "        element.appendChild(docLink);\n",
              "      }\n",
              "    </script>\n",
              "  </div>\n",
              "\n",
              "\n",
              "<div id=\"df-c4119c50-8556-4637-a935-86f56b317007\">\n",
              "  <button class=\"colab-df-quickchart\" onclick=\"quickchart('df-c4119c50-8556-4637-a935-86f56b317007')\"\n",
              "            title=\"Suggest charts\"\n",
              "            style=\"display:none;\">\n",
              "\n",
              "<svg xmlns=\"http://www.w3.org/2000/svg\" height=\"24px\"viewBox=\"0 0 24 24\"\n",
              "     width=\"24px\">\n",
              "    <g>\n",
              "        <path d=\"M19 3H5c-1.1 0-2 .9-2 2v14c0 1.1.9 2 2 2h14c1.1 0 2-.9 2-2V5c0-1.1-.9-2-2-2zM9 17H7v-7h2v7zm4 0h-2V7h2v10zm4 0h-2v-4h2v4z\"/>\n",
              "    </g>\n",
              "</svg>\n",
              "  </button>\n",
              "\n",
              "<style>\n",
              "  .colab-df-quickchart {\n",
              "      --bg-color: #E8F0FE;\n",
              "      --fill-color: #1967D2;\n",
              "      --hover-bg-color: #E2EBFA;\n",
              "      --hover-fill-color: #174EA6;\n",
              "      --disabled-fill-color: #AAA;\n",
              "      --disabled-bg-color: #DDD;\n",
              "  }\n",
              "\n",
              "  [theme=dark] .colab-df-quickchart {\n",
              "      --bg-color: #3B4455;\n",
              "      --fill-color: #D2E3FC;\n",
              "      --hover-bg-color: #434B5C;\n",
              "      --hover-fill-color: #FFFFFF;\n",
              "      --disabled-bg-color: #3B4455;\n",
              "      --disabled-fill-color: #666;\n",
              "  }\n",
              "\n",
              "  .colab-df-quickchart {\n",
              "    background-color: var(--bg-color);\n",
              "    border: none;\n",
              "    border-radius: 50%;\n",
              "    cursor: pointer;\n",
              "    display: none;\n",
              "    fill: var(--fill-color);\n",
              "    height: 32px;\n",
              "    padding: 0;\n",
              "    width: 32px;\n",
              "  }\n",
              "\n",
              "  .colab-df-quickchart:hover {\n",
              "    background-color: var(--hover-bg-color);\n",
              "    box-shadow: 0 1px 2px rgba(60, 64, 67, 0.3), 0 1px 3px 1px rgba(60, 64, 67, 0.15);\n",
              "    fill: var(--button-hover-fill-color);\n",
              "  }\n",
              "\n",
              "  .colab-df-quickchart-complete:disabled,\n",
              "  .colab-df-quickchart-complete:disabled:hover {\n",
              "    background-color: var(--disabled-bg-color);\n",
              "    fill: var(--disabled-fill-color);\n",
              "    box-shadow: none;\n",
              "  }\n",
              "\n",
              "  .colab-df-spinner {\n",
              "    border: 2px solid var(--fill-color);\n",
              "    border-color: transparent;\n",
              "    border-bottom-color: var(--fill-color);\n",
              "    animation:\n",
              "      spin 1s steps(1) infinite;\n",
              "  }\n",
              "\n",
              "  @keyframes spin {\n",
              "    0% {\n",
              "      border-color: transparent;\n",
              "      border-bottom-color: var(--fill-color);\n",
              "      border-left-color: var(--fill-color);\n",
              "    }\n",
              "    20% {\n",
              "      border-color: transparent;\n",
              "      border-left-color: var(--fill-color);\n",
              "      border-top-color: var(--fill-color);\n",
              "    }\n",
              "    30% {\n",
              "      border-color: transparent;\n",
              "      border-left-color: var(--fill-color);\n",
              "      border-top-color: var(--fill-color);\n",
              "      border-right-color: var(--fill-color);\n",
              "    }\n",
              "    40% {\n",
              "      border-color: transparent;\n",
              "      border-right-color: var(--fill-color);\n",
              "      border-top-color: var(--fill-color);\n",
              "    }\n",
              "    60% {\n",
              "      border-color: transparent;\n",
              "      border-right-color: var(--fill-color);\n",
              "    }\n",
              "    80% {\n",
              "      border-color: transparent;\n",
              "      border-right-color: var(--fill-color);\n",
              "      border-bottom-color: var(--fill-color);\n",
              "    }\n",
              "    90% {\n",
              "      border-color: transparent;\n",
              "      border-bottom-color: var(--fill-color);\n",
              "    }\n",
              "  }\n",
              "</style>\n",
              "\n",
              "  <script>\n",
              "    async function quickchart(key) {\n",
              "      const quickchartButtonEl =\n",
              "        document.querySelector('#' + key + ' button');\n",
              "      quickchartButtonEl.disabled = true;  // To prevent multiple clicks.\n",
              "      quickchartButtonEl.classList.add('colab-df-spinner');\n",
              "      try {\n",
              "        const charts = await google.colab.kernel.invokeFunction(\n",
              "            'suggestCharts', [key], {});\n",
              "      } catch (error) {\n",
              "        console.error('Error during call to suggestCharts:', error);\n",
              "      }\n",
              "      quickchartButtonEl.classList.remove('colab-df-spinner');\n",
              "      quickchartButtonEl.classList.add('colab-df-quickchart-complete');\n",
              "    }\n",
              "    (() => {\n",
              "      let quickchartButtonEl =\n",
              "        document.querySelector('#df-c4119c50-8556-4637-a935-86f56b317007 button');\n",
              "      quickchartButtonEl.style.display =\n",
              "        google.colab.kernel.accessAllowed ? 'block' : 'none';\n",
              "    })();\n",
              "  </script>\n",
              "</div>\n",
              "    </div>\n",
              "  </div>\n"
            ],
            "application/vnd.google.colaboratory.intrinsic+json": {
              "type": "dataframe",
              "variable_name": "merged_tables",
              "summary": "{\n  \"name\": \"merged_tables\",\n  \"rows\": 19,\n  \"fields\": [\n    {\n      \"column\": \"userID\",\n      \"properties\": {\n        \"dtype\": \"number\",\n        \"std\": 226593,\n        \"min\": 139646,\n        \"max\": 942571,\n        \"num_unique_values\": 19,\n        \"samples\": [\n          139646,\n          481578,\n          710764\n        ],\n        \"semantic_type\": \"\",\n        \"description\": \"\"\n      }\n    },\n    {\n      \"column\": \"employment_x\",\n      \"properties\": {\n        \"dtype\": \"category\",\n        \"num_unique_values\": 9,\n        \"samples\": [\n          \"Manager\",\n          \"Professor\",\n          \"Web Designer\"\n        ],\n        \"semantic_type\": \"\",\n        \"description\": \"\"\n      }\n    },\n    {\n      \"column\": \"date of arrival\",\n      \"properties\": {\n        \"dtype\": \"date\",\n        \"min\": \"2019-09-17 00:00:00\",\n        \"max\": \"2020-09-20 00:00:00\",\n        \"num_unique_values\": 19,\n        \"samples\": [\n          \"2019-11-10 00:00:00\",\n          \"2020-05-03 00:00:00\",\n          \"2019-09-17 00:00:00\"\n        ],\n        \"semantic_type\": \"\",\n        \"description\": \"\"\n      }\n    },\n    {\n      \"column\": \"employment_y\",\n      \"properties\": {\n        \"dtype\": \"category\",\n        \"num_unique_values\": 9,\n        \"samples\": [\n          \"Manager\",\n          \"Professor\",\n          \"Web Designer\"\n        ],\n        \"semantic_type\": \"\",\n        \"description\": \"\"\n      }\n    },\n    {\n      \"column\": \"date of departure\",\n      \"properties\": {\n        \"dtype\": \"date\",\n        \"min\": \"2019-10-04 00:00:00\",\n        \"max\": \"2020-10-29 00:00:00\",\n        \"num_unique_values\": 19,\n        \"samples\": [\n          \"2020-07-29 00:00:00\",\n          \"2020-07-02 00:00:00\",\n          \"2019-10-04 00:00:00\"\n        ],\n        \"semantic_type\": \"\",\n        \"description\": \"\"\n      }\n    }\n  ]\n}"
            }
          },
          "metadata": {}
        }
      ],
      "source": [
        "merged_tables = arrival_us.merge(departure_us, on='userID', how='inner')\n",
        "\n",
        "duplicated_rows = merged_tables[merged_tables.duplicated(subset='userID', keep=False)]\n",
        "\n",
        "if not duplicated_rows.empty:\n",
        "    print(\"The following users did more that 1 trip to US in the analyzed period [01-09-2019 to 31-10-2020]\")\n",
        "    print(duplicated_rows)\n",
        "\n",
        "print(\"Filtered Merged table:\")\n",
        "display(merged_tables)"
      ]
    },
    {
      "cell_type": "markdown",
      "metadata": {
        "id": "NK1vMch6MhsP"
      },
      "source": [
        "We can now create a new feature called journey_length representing the  departure date - arrival date\n",
        "\n",
        "*Sidenote: if you get negative journey length, what would be your explanation to that?*\n"
      ]
    },
    {
      "cell_type": "code",
      "execution_count": 337,
      "metadata": {
        "id": "6TFymz0VMxaU",
        "colab": {
          "base_uri": "https://localhost:8080/"
        },
        "outputId": "1b2b1dce-5968-4ff1-9272-ef849b2aba61"
      },
      "outputs": [
        {
          "output_type": "stream",
          "name": "stdout",
          "text": [
            "Updated Merged table:\n",
            "    userID             employment_x date of arrival             employment_y  \\\n",
            "0   139646                   Doctor      2019-11-10                   Doctor   \n",
            "1   255830                Professor      2020-04-10                Professor   \n",
            "2   287607            Kitchen staff      2020-02-16            Kitchen staff   \n",
            "3   424791       Teaching Assistant      2020-09-20       Teaching Assistant   \n",
            "4   428951            Kitchen staff      2020-05-28            Kitchen staff   \n",
            "5   481578  Administrative employee      2020-05-03  Administrative employee   \n",
            "6   556033             Web Designer      2019-10-13             Web Designer   \n",
            "7   581969                Librarian      2019-10-15                Librarian   \n",
            "8   628854                  Manager      2020-07-29                  Manager   \n",
            "9   638911            Kitchen staff      2020-01-09            Kitchen staff   \n",
            "10  679196                Librarian      2020-01-23                Librarian   \n",
            "11  710764                  Manager      2019-09-17                  Manager   \n",
            "12  739104                Professor      2020-04-21                Professor   \n",
            "13  762279                   Doctor      2019-09-20                   Doctor   \n",
            "14  804662               Consultant      2020-01-14               Consultant   \n",
            "15  850103                Librarian      2020-01-28                Librarian   \n",
            "16  852352                Professor      2020-01-04                Professor   \n",
            "17  866017                  Manager      2020-05-09                  Manager   \n",
            "18  942571             Web Designer      2019-12-23             Web Designer   \n",
            "\n",
            "   date of departure journey_length  \n",
            "0         2020-07-29       262 days  \n",
            "1         2020-10-07       180 days  \n",
            "2         2020-06-30       135 days  \n",
            "3         2020-10-06        16 days  \n",
            "4         2020-08-01        65 days  \n",
            "5         2020-07-02        60 days  \n",
            "6         2019-10-22         9 days  \n",
            "7         2020-07-05       264 days  \n",
            "8         2020-09-11        44 days  \n",
            "9         2020-06-26       169 days  \n",
            "10        2020-10-29       280 days  \n",
            "11        2019-10-04        17 days  \n",
            "12        2020-05-18        27 days  \n",
            "13        2020-08-11       326 days  \n",
            "14        2020-08-05       204 days  \n",
            "15        2020-05-01        94 days  \n",
            "16        2020-03-29        85 days  \n",
            "17        2020-07-12        64 days  \n",
            "18        2020-06-25       185 days  \n"
          ]
        }
      ],
      "source": [
        "merged_tables['date of arrival'] = pd.to_datetime(merged_tables['date of arrival'])\n",
        "merged_tables['date of departure'] = pd.to_datetime(merged_tables['date of departure'])\n",
        "\n",
        "merged_tables['journey_length'] = merged_tables['date of departure'] - merged_tables['date of arrival']\n",
        "\n",
        "print(\"Updated Merged table:\")\n",
        "print(merged_tables)"
      ]
    },
    {
      "cell_type": "markdown",
      "metadata": {
        "id": "Nnlu7m3kPBEV"
      },
      "source": [
        "We can now create the boxplots"
      ]
    },
    {
      "cell_type": "code",
      "execution_count": 338,
      "metadata": {
        "id": "nH9H5M18PDrm",
        "colab": {
          "base_uri": "https://localhost:8080/",
          "height": 598
        },
        "outputId": "a41ebb36-2f1b-483d-abbb-ff8dab9a2d77"
      },
      "outputs": [
        {
          "output_type": "display_data",
          "data": {
            "text/plain": [
              "<Figure size 1000x600 with 0 Axes>"
            ]
          },
          "metadata": {}
        },
        {
          "output_type": "display_data",
          "data": {
            "text/plain": [
              "<Figure size 640x480 with 1 Axes>"
            ],
            "image/png": "[encoded data removed]"
          },
          "metadata": {}
        }
      ],
      "source": [
        "merged_tables['journey_length_days'] = merged_tables['journey_length'].dt.days\n",
        "\n",
        "plt.figure(figsize=(10, 6))\n",
        "merged_tables.boxplot(column='journey_length_days', by='employment_y')\n",
        "plt.xlabel('Employment')\n",
        "plt.ylabel('Journey Length (Days)')\n",
        "plt.title('Boxplot of Journey Length per Employment')\n",
        "\n",
        "plt.xticks(rotation=45)\n",
        "\n",
        "plt.show()"
      ]
    },
    {
      "cell_type": "markdown",
      "metadata": {
        "id": "BqQD6lffRdNW"
      },
      "source": [
        "##SIMF is satisfied with your work but believes the current data is inconclusive.\n",
        "\n",
        "Your investigation will continue when more intelligence comes in..."
      ]
    }
  ],
  "metadata": {
    "colab": {
      "provenance": [],
      "include_colab_link": true
    },
    "kernelspec": {
      "display_name": "Python 3 (ipykernel)",
      "language": "python",
      "name": "python3"
    },
    "language_info": {
      "codemirror_mode": {
        "name": "ipython",
        "version": 3
      },
      "file_extension": ".py",
      "mimetype": "text/x-python",
      "name": "python",
      "nbconvert_exporter": "python",
      "pygments_lexer": "ipython3",
      "version": "3.9.12"
    }
  },
  "nbformat": 4,
  "nbformat_minor": 0
}